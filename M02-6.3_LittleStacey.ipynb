{
 "cells": [
  {
   "cell_type": "code",
   "execution_count": null,
   "id": "eb8cf112-dc9a-497d-9fa3-5aad88638615",
   "metadata": {},
   "outputs": [],
   "source": [
    "# Stacey Little\n",
    "# SDEV220-50P\n",
    "# Oct. 28, 2024\n",
    "# 6.3 Number guessing game with range and for loop\n",
    "\n",
    "# Assign the value 5 to the variable guess_me.\n",
    "guess_me = 5\n",
    "\n",
    "# Use a for loop to iterate a variable called number over range(10).\n",
    "for number in range(10):\n",
    "    print(number)\n",
    "# If it equals guess_me, print found it! and then break out of the for loop.\n",
    "    if guess_me == number:\n",
    "        print(\"found it!\")\n",
    "        break\n",
    "# If number is greater than guess_me, print 'oops' and then exit the loop.\n",
    "    if guess_me > number:\n",
    "        print(\"oops\")\n",
    "        number = number - 1\n",
    "        \n",
    "# If number is less than guess_me, print 'too low'.\n",
    "    if guess_me < number:\n",
    "        print(\"too low\")\n",
    "        number = number + 1\n"
   ]
  }
 ],
 "metadata": {
  "kernelspec": {
   "display_name": "Python 3 (ipykernel)",
   "language": "python",
   "name": "python3"
  },
  "language_info": {
   "codemirror_mode": {
    "name": "ipython",
    "version": 3
   },
   "file_extension": ".py",
   "mimetype": "text/x-python",
   "name": "python",
   "nbconvert_exporter": "python",
   "pygments_lexer": "ipython3",
   "version": "3.12.7"
  }
 },
 "nbformat": 4,
 "nbformat_minor": 5
}
