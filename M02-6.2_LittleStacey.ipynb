{
 "cells": [
  {
   "cell_type": "code",
   "execution_count": null,
   "id": "3342207d-4482-4df3-9af6-272147c6a0ec",
   "metadata": {},
   "outputs": [],
   "source": [
    "# Stacey Little\n",
    "# SDEV220-50P\n",
    "# Oct. 28, 2024\n",
    "# 6.2 Number guessing. Prints too low, too high, etc\n",
    "\n",
    "# Assign the value 7 to the variable guess_me, and the value 1 to the variable number.\n",
    "guess_me = 7\n",
    "number = 1\n",
    "\n",
    "# Write a while loop that compares number with guess_me.\n",
    "# Print 'too low' if number is less than guess me.\n",
    "while number < guess_me:\n",
    "    print(number)\n",
    "    print(\"too low\")\n",
    "# Increment number at the end of the loop.\n",
    "    number = number + 1\n",
    "\n",
    "# If number is greater than guess_me, print 'oops' and then exit the loop.\n",
    "while number > guess_me:\n",
    "    print(number)\n",
    "    print(\"oops\")\n",
    "# Increment number at the end of the loop.\n",
    "    number = number - 1\n",
    "\n",
    "\n",
    "# If number equals guess_me, print 'found it!' and then exit the loop.\n",
    "while number == guess_me:\n",
    "    print(number)\n",
    "    print(\"found it!\")\n",
    "# Break once the number is matched to end the loop.\n",
    "    break\n"
   ]
  }
 ],
 "metadata": {
  "kernelspec": {
   "display_name": "Python 3 (ipykernel)",
   "language": "python",
   "name": "python3"
  },
  "language_info": {
   "codemirror_mode": {
    "name": "ipython",
    "version": 3
   },
   "file_extension": ".py",
   "mimetype": "text/x-python",
   "name": "python",
   "nbconvert_exporter": "python",
   "pygments_lexer": "ipython3",
   "version": "3.12.7"
  }
 },
 "nbformat": 4,
 "nbformat_minor": 5
}
