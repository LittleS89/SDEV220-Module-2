{
 "cells": [
  {
   "cell_type": "code",
   "execution_count": 2,
   "id": "17a00636-ff08-406d-8540-1324485ee4bb",
   "metadata": {},
   "outputs": [
    {
     "name": "stdout",
     "output_type": "stream",
     "text": [
      "too low\n"
     ]
    }
   ],
   "source": [
    "# Stacey Little\n",
    "# SDEV220-50P\n",
    "# Oct. 28, 2024\n",
    "# Number guessing game to guess 'secret' number. Displays too high or too low if incorrect.\n",
    "\n",
    "secret = 9\n",
    "guess = 2\n",
    "\n",
    "if guess > secret:\n",
    "    print(\"too high\")\n",
    "elif guess < secret:\n",
    "    print (\"too low\")\n",
    "else:\n",
    "    print(\"just right\")\n"
   ]
  },
  {
   "cell_type": "code",
   "execution_count": null,
   "id": "3b870a7b-fc89-4f6e-8de0-1642b8b65cd0",
   "metadata": {},
   "outputs": [],
   "source": []
  }
 ],
 "metadata": {
  "kernelspec": {
   "display_name": "Python 3 (ipykernel)",
   "language": "python",
   "name": "python3"
  },
  "language_info": {
   "codemirror_mode": {
    "name": "ipython",
    "version": 3
   },
   "file_extension": ".py",
   "mimetype": "text/x-python",
   "name": "python",
   "nbconvert_exporter": "python",
   "pygments_lexer": "ipython3",
   "version": "3.12.7"
  }
 },
 "nbformat": 4,
 "nbformat_minor": 5
}
