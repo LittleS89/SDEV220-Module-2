{
 "cells": [
  {
   "cell_type": "code",
   "execution_count": 1,
   "id": "594639f8-b8c9-4ddf-a840-e6603729d98b",
   "metadata": {},
   "outputs": [
    {
     "name": "stdout",
     "output_type": "stream",
     "text": [
      "watermelon\n"
     ]
    }
   ],
   "source": [
    "# Stacey Little\n",
    "# SDEV220-50P\n",
    "# Oct. 28, 2024\n",
    "# 4.2 Assign True or False to the variables small and green.\n",
    "# Write some if/else statements to print which of these matches those choices:\n",
    "# cherry, pea, watermelon, pumpkin.\n",
    "\n",
    "small = False\n",
    "green = True\n",
    "\n",
    "if small and green:\n",
    "    print(\"pea\")\n",
    "elif small and not green:\n",
    "    print(\"cherry\")\n",
    "elif not small and green:\n",
    "    print(\"watermelon\")\n",
    "elif not small and not green:\n",
    "    print(\"pumpkin\")"
   ]
  },
  {
   "cell_type": "code",
   "execution_count": null,
   "id": "de8efd6d-6a0f-4711-8b14-f71b96a3f72b",
   "metadata": {},
   "outputs": [],
   "source": []
  }
 ],
 "metadata": {
  "kernelspec": {
   "display_name": "Python 3 (ipykernel)",
   "language": "python",
   "name": "python3"
  },
  "language_info": {
   "codemirror_mode": {
    "name": "ipython",
    "version": 3
   },
   "file_extension": ".py",
   "mimetype": "text/x-python",
   "name": "python",
   "nbconvert_exporter": "python",
   "pygments_lexer": "ipython3",
   "version": "3.12.7"
  }
 },
 "nbformat": 4,
 "nbformat_minor": 5
}
