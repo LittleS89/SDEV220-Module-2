{
 "cells": [
  {
   "cell_type": "code",
   "execution_count": null,
   "id": "0d879687-24b6-456a-9cc3-ac0ecf473664",
   "metadata": {},
   "outputs": [],
   "source": [
    "# Stacey Little\n",
    "# SDEV220-50P\n",
    "# Oct. 28, 2024\n",
    "# 6.1 Use a for loop to print the values of the list [3, 2, 1, 0].\n",
    "\n",
    "a = [3, 2, 1, 0]\n",
    "\n",
    "for x in a:\n",
    "    print(x)\n",
    "\n",
    "# or if you want them all on one line as a list format\n",
    "    \n",
    "for x in list[a]:\n",
    "    print(x)\n"
   ]
  }
 ],
 "metadata": {
  "kernelspec": {
   "display_name": "Python 3 (ipykernel)",
   "language": "python",
   "name": "python3"
  },
  "language_info": {
   "codemirror_mode": {
    "name": "ipython",
    "version": 3
   },
   "file_extension": ".py",
   "mimetype": "text/x-python",
   "name": "python",
   "nbconvert_exporter": "python",
   "pygments_lexer": "ipython3",
   "version": "3.12.7"
  }
 },
 "nbformat": 4,
 "nbformat_minor": 5
}
