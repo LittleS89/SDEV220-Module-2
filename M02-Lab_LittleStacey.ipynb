{
 "cells": [
  {
   "cell_type": "code",
   "execution_count": null,
   "id": "8152d61d-c468-429f-acdd-66b39551b70d",
   "metadata": {},
   "outputs": [],
   "source": [
    "# Stacey Little\n",
    "# SDEV220-50P: Module 2 Lab\n",
    "# Oct 28th, 2024\n",
    "# Deans List or honor roll checker for student name and GPAs\n",
    "\n",
    "\n",
    "# function to check student gpa for dean's list or honor roll\n",
    "def check_list(f_name, l_name, gpa):\n",
    "# if statement to check for dean's list level gpa\n",
    "    if gpa >= 3.5:\n",
    "        print(f\"Student {f_name} has made the Dean's List.\")\n",
    "# elif statement to check for honor roll level gpa\n",
    "    elif gpa >= 3.25:\n",
    "        print(f\"Student {f_name} has made the Honor Roll.\")\n",
    "# else statement to print if student does not qualify for either group\n",
    "    else:\n",
    "        print(f\"Student {f_name} does not qualify for Dean's List or Honor Roll.\")\n",
    "\n",
    "\n",
    "# while statement to accept student names or quit when 'ZZZ' is entered\n",
    "while True:\n",
    "    l_name = input(\"Please enter student's last name (or enter 'ZZZ' to quit): \")\n",
    "    if l_name == 'ZZZ':\n",
    "        print(\"Thank you. Quitting program now.\")\n",
    "        break\n",
    "    f_name = input(\"Please enter student's first name: \")\n",
    "\n",
    "    try:\n",
    "        gpa = float(input(\"Please enter GPA: \"))\n",
    "    except ValueError:\n",
    "        print(\"GPA should be only numbers. Please try again.\")\n",
    "        continue\n",
    "\n",
    "check_list(f_name, l_name, gpa)\n"
   ]
  }
 ],
 "metadata": {
  "kernelspec": {
   "display_name": "Python 3 (ipykernel)",
   "language": "python",
   "name": "python3"
  },
  "language_info": {
   "codemirror_mode": {
    "name": "ipython",
    "version": 3
   },
   "file_extension": ".py",
   "mimetype": "text/x-python",
   "name": "python",
   "nbconvert_exporter": "python",
   "pygments_lexer": "ipython3",
   "version": "3.12.7"
  }
 },
 "nbformat": 4,
 "nbformat_minor": 5
}
